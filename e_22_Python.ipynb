{
  "cells": [
    {
      "cell_type": "markdown",
      "id": "f0db2282",
      "metadata": {
        "id": "f0db2282"
      },
      "source": [
        "# 파이썬 기초\n",
        "- 주피터 노트북 사용법\n",
        "- 기본 변수, 묶음변수(리스트, 튜플, 딕셔너리)\n",
        "- 특수 변수(range)\n",
        "- in, enumerate\n",
        "- 프로그램 흐름 (if, elif, else, for, break)"
      ]
    },
    {
      "cell_type": "markdown",
      "id": "afecd79e",
      "metadata": {
        "id": "afecd79e"
      },
      "source": [
        "# Jupyter Notebook\n",
        "\n",
        "- 개인 PC를 사용하는 경우  \n",
        "  - PC에 아나콘다 설치\n",
        "  - pip install tensorflow 실행(CPU 버전인 경우)\n",
        "  - PC 검색창에서 anaconda prompt 실행 후 원하는 시작 폴더로 이동\n",
        "  - jupyter notebook 실행\n",
        "\n",
        "- 구글 클라우드 colab 사용  \n",
        "  - colab.research.google.com 접속\n",
        "  - 구글 계정에 가입해야 한다, 크롬 브라우저 사용\n",
        "  - 스마트폰에서도 colab 접속 가능\n",
        "- 예제는 github.com에서 다운로드 한다  \n",
        "  - github.com 계정 가입 필요"
      ]
    },
    {
      "cell_type": "markdown",
      "id": "9c337934",
      "metadata": {
        "id": "9c337934"
      },
      "source": [
        "## 주요 명령 단축키 (PC에서)\n",
        "\n",
        "- 셀의 왼쪽 부분을 클릭하면 명령 입력 모드가 된다(셀이 파란색으로 바뀜). 명령 입력 모드에서 아래 단축키를 사용할 수 있다  \n",
        "\n",
        "  - a  : 현재 셀 위에 셀 추가 (above)\n",
        "  - b  : 현재 셀 아래에 셀 추가 (below)\n",
        "  - x  : 현재 셀 삭제 (delete)\n",
        "  - m  : 문서용 셀로 전환 (mark up)\n",
        "  - y  : 코드용 셀로 전환\n",
        "  - o  : 출력 보이기/안보이기 토글 (output)\n",
        "  -  아래 셀과 합치기 shift + m (merge)\n",
        "  -  셀을 둘로 나누기 ctrl + shift + '-'\n",
        "  - h  : help\n",
        "\n",
        "\n",
        "- **코랩에서는 명령어 입력 전에 (ctrl + m)을 먼저 입력해야 한다**"
      ]
    },
    {
      "cell_type": "markdown",
      "id": "1ff9c2ad",
      "metadata": {
        "id": "1ff9c2ad"
      },
      "source": [
        "# 마크다운\n",
        "- 이 셀은 마크다운 셀이다. 셀의 성격을 바꾸는 메뉴는 상단 Cell - Cell Type에 있다  \n",
        "\n",
        "## 작은제목\n",
        "### 더 작은 제목\n",
        "- 쥬피터 노트북의 장점은 프로그램 코드 작성 셀과 함께 이렇게 문서를 편집하는 셀도 하나의 노트북내에서 같이 만들 수 있다는 것이다\n",
        "  - 들여쓰기\n",
        " > 세부 내용은 이렇게 쓸 수 있다\n",
        "- **강조하기**를 할 수 있고 *이탤릭체*를 쓸 수도 있다\n",
        "\n",
        "## 셀 편집 방법\n",
        "- 셀을 편집하려면 셀 내부를 더블 클릭한다 (셀이 초록색을 바뀐다)\n",
        "\n",
        "## 셀 실행 방법\n",
        "- 각 셀은 프로그램 코드 또는 문서(마크업 문서) 중 하나로 사용된다\n",
        "- 셀을 Ctrl + Enter로 실행하면 셀 실행 후 커서가 현재의 셀에 남아 있는다\n",
        "- 셀을 Shift + Enter 로 실행하면 셀 실행 후 **커서가 다음 셀로 이동**한다\n",
        "\n",
        "## 셀 실행 번호\n",
        "\n",
        "- 코드 셀에서 In [2] 와 같이 숫자가 보이는데, 이는 이 셀이 실행된 순서를 나타내며 큰 의미는 없다. 노트북을 재실행하면 1번부터 다시 시작한다"
      ]
    },
    {
      "cell_type": "markdown",
      "id": "fcf5c1e9",
      "metadata": {
        "id": "fcf5c1e9"
      },
      "source": [
        "## 목차 만들기(PC)\n",
        "- colab을 사용하면 좌측에서 목차를 기본적으로 볼 수 있다\n",
        " - 목차는 마크다운에서 #, ##, ###, ... 등이 포함된 라인들로 작성된다\n",
        "- PC에서 아나콘다를 사용하는 경우 쥬피터 노트북 좌측에 목차를 만들려면 아래 명령을 수행한 후 쥬피터 노트북을 재실행한다\n",
        " - 아래에서 '!'의 의미는 운영체제에 즉 컴퓨터에게 직접 명령을 수행하라는 의미이다"
      ]
    },
    {
      "cell_type": "code",
      "execution_count": null,
      "id": "b7f01c0f",
      "metadata": {
        "id": "b7f01c0f"
      },
      "outputs": [],
      "source": [
        "# !pip install jupyter_contrib_nbextensions && jupyter contrib nbextension install --user"
      ]
    },
    {
      "cell_type": "markdown",
      "id": "7b27c12b",
      "metadata": {
        "id": "7b27c12b"
      },
      "source": [
        "- 쥬피터 노트북 최상단에 Nbextention 탭이 추가된 것이 보이면, 이를 선택한 후 Table of Contents(2) 활성화를 선택한다.\n",
        "- 관련 블로그 https://junpyopark.github.io/Jupyter_Extension/"
      ]
    },
    {
      "cell_type": "markdown",
      "id": "cc3161ce",
      "metadata": {
        "id": "cc3161ce"
      },
      "source": [
        "# 파이선 기본 문법\n",
        "\n",
        "- 기본 변수 (단일 데이터 저장)\n",
        "  - 정수(int), 부동소수(float), 문자열(strings), 불리언(bool)  \n",
        "- 묶음 데이터 (복수 데이터 저장)\n",
        "  - 리스트(list), 튜풀(tuple), 사전(dictionary)\n",
        "- 프로그램 흐름\n",
        "  - if, else, for, break\n",
        "- enumerate\n",
        "  - 리스트에서 순서번호(인덱스)를 얻는 방법"
      ]
    },
    {
      "cell_type": "markdown",
      "id": "e6576640",
      "metadata": {
        "id": "e6576640"
      },
      "source": [
        "# 기본 변수\n",
        "## 숫자, 문자열, 불리언\n",
        "\n",
        "- 숫자에는 정수(int)와 부동소수(float)가 있다\n",
        "- 변수에 값을 배정(assign)할 때 \"=\"를 사용한다"
      ]
    },
    {
      "cell_type": "code",
      "execution_count": null,
      "id": "1e47cfbc",
      "metadata": {
        "id": "1e47cfbc",
        "outputId": "7767b4e6-07a8-459b-e1e7-a3b933dc1806"
      },
      "outputs": [
        {
          "name": "stdout",
          "output_type": "stream",
          "text": [
            "3 0.5 김연아 True\n"
          ]
        }
      ],
      "source": [
        "## 파이썬의 기본 변수 4가지\n",
        "\n",
        "a = 3\n",
        "b = 0.5\n",
        "x = \"김연아\"\n",
        "y = True\n",
        "print(a,b,x,y)"
      ]
    },
    {
      "cell_type": "code",
      "execution_count": null,
      "id": "0933ea17",
      "metadata": {
        "id": "0933ea17",
        "outputId": "1b669675-0b9c-42e1-8fc9-2a0ad8cc9222"
      },
      "outputs": [
        {
          "data": {
            "text/plain": [
              "3"
            ]
          },
          "execution_count": 2,
          "metadata": {},
          "output_type": "execute_result"
        }
      ],
      "source": [
        "## 문자열의 길이 보기 (length)\n",
        "\n",
        "len(x)  # 3"
      ]
    },
    {
      "cell_type": "code",
      "execution_count": null,
      "id": "5ec7bb46",
      "metadata": {
        "id": "5ec7bb46",
        "outputId": "265957ec-434a-4637-f4cf-56336667a62e"
      },
      "outputs": [
        {
          "name": "stdout",
          "output_type": "stream",
          "text": [
            "3.5\n",
            "2.5\n",
            "1.5\n",
            "6.0\n",
            "4.5\n"
          ]
        }
      ],
      "source": [
        "## 정수, 소수, 불리언의 4칙 연산\n",
        "\n",
        "print(a+b)\n",
        "print(a-b)\n",
        "print(a*b)\n",
        "print(a/b)\n",
        "print(a+b+y)"
      ]
    },
    {
      "cell_type": "code",
      "execution_count": null,
      "id": "ccf06bd0",
      "metadata": {
        "id": "ccf06bd0",
        "outputId": "7f79324f-9185-401e-8aeb-56d5f14a9103"
      },
      "outputs": [
        {
          "data": {
            "text/plain": [
              "(int, float, str, bool)"
            ]
          },
          "execution_count": 4,
          "metadata": {},
          "output_type": "execute_result"
        }
      ],
      "source": [
        "## 변수의 타입 확인하기\n",
        "\n",
        "type(a), type(b), type(x), type(y)"
      ]
    },
    {
      "cell_type": "code",
      "execution_count": null,
      "id": "7673cce7",
      "metadata": {
        "id": "7673cce7",
        "outputId": "11c2808c-d128-494e-adc6-7485ca918a5b"
      },
      "outputs": [
        {
          "name": "stdout",
          "output_type": "stream",
          "text": [
            "2\n",
            "1\n",
            "343\n"
          ]
        }
      ],
      "source": [
        "## 나눗셈 몫과 나머지, 승수\n",
        "\n",
        "a = 7\n",
        "b = 3\n",
        "\n",
        "print(a//b)  # 2, 몫 구하기\n",
        "print(a%b)   # 1, 나머지\n",
        "print(a**b)  # 232, 승수"
      ]
    },
    {
      "cell_type": "markdown",
      "id": "c27ae0ac",
      "metadata": {
        "id": "c27ae0ac"
      },
      "source": [
        "## 문자열"
      ]
    },
    {
      "cell_type": "code",
      "execution_count": null,
      "id": "acdfd47d",
      "metadata": {
        "scrolled": true,
        "id": "acdfd47d",
        "outputId": "5c2f49e7-1588-46a1-f95c-c4cab6e1cb08"
      },
      "outputs": [
        {
          "name": "stdout",
          "output_type": "stream",
          "text": [
            "오늘 날씨는 좋으네요~~~ \n"
          ]
        }
      ],
      "source": [
        "## 문자열 붙이기\n",
        "\n",
        "x = \"오늘 날씨는 \"\n",
        "y = \"좋으네요~~~ \"\n",
        "z = x + y\n",
        "print(z)"
      ]
    },
    {
      "cell_type": "code",
      "execution_count": null,
      "id": "98f8824e",
      "metadata": {
        "id": "98f8824e",
        "outputId": "d999a4cf-e9e5-4e6e-8eea-8b35dbe15419"
      },
      "outputs": [
        {
          "data": {
            "text/plain": [
              "'오늘 날씨는 좋으네요~~~ 좋으네요~~~ 좋으네요~~~ '"
            ]
          },
          "execution_count": 8,
          "metadata": {},
          "output_type": "execute_result"
        }
      ],
      "source": [
        "## 문자열 반복하기\n",
        "\n",
        "x + 3*y"
      ]
    },
    {
      "cell_type": "code",
      "execution_count": null,
      "id": "c8558b0d",
      "metadata": {
        "id": "c8558b0d",
        "outputId": "b5a72e61-5f46-458e-fca5-df144f438d5f"
      },
      "outputs": [
        {
          "name": "stdout",
          "output_type": "stream",
          "text": [
            "7\n",
            "오늘 날씨는 \n",
            "늘\n",
            "오늘 \n",
            "날씨는\n",
            "씨\n",
            "씨는 \n"
          ]
        }
      ],
      "source": [
        "## 문자열 일부 보기 (인덱스를 사용한 슬라이싱)\n",
        "\n",
        "x = \"오늘 날씨는 \"\n",
        "\n",
        "print(len(x)) # 문자열 전체 글자수\n",
        "print(x)       # 전체 보기\n",
        "print(x[1])   # 두 번째(1) 글자\n",
        "print(x[:3])  # 네 번재(3) 미만까지\n",
        "print(x[3:6]) # 네 번째(3) 이상 ~ 7번째(6) 미만\n",
        "print(x[-3])  # 뒤에서 세 번째(3) 글자\n",
        "print(x[-3:]) # 뒤에서 세 번째(3) 이후"
      ]
    },
    {
      "cell_type": "markdown",
      "id": "e62d1163",
      "metadata": {
        "id": "e62d1163"
      },
      "source": [
        "### 문자열 조작, split과 join\n",
        "- 문자열을 공백, \"/\", \",\" 등 임의의 기호를 기준으로 나누거나(split) 합친다(join)\n",
        "- 나누어진 항목은 리스트(list)에 저장된다 (리스트는 묶음 데이터를 나타내며 뒤에서 설명함)"
      ]
    },
    {
      "cell_type": "code",
      "execution_count": null,
      "id": "a957734c",
      "metadata": {
        "id": "a957734c",
        "outputId": "5c7fba83-d40e-4fd7-819e-9823fe893ba9"
      },
      "outputs": [
        {
          "name": "stdout",
          "output_type": "stream",
          "text": [
            "['김연아', '손흥민', '이선희', '유재석']\n"
          ]
        }
      ],
      "source": [
        "## 문자열을 ','나 공백(스페이스) 등으로 나누기\n",
        "\n",
        "name1 = '김연아,손흥민,이선희,유재석'\n",
        "\n",
        "# ','로 나누기\n",
        "z = name1.split(',')\n",
        "print(z)"
      ]
    },
    {
      "cell_type": "code",
      "execution_count": null,
      "id": "6206236c",
      "metadata": {
        "id": "6206236c",
        "outputId": "32a1ae4b-565d-4f62-fc9e-75efbe77335e"
      },
      "outputs": [
        {
          "data": {
            "text/plain": [
              "'김연아;손흥민;이선희;유재석'"
            ]
          },
          "execution_count": 2,
          "metadata": {},
          "output_type": "execute_result"
        }
      ],
      "source": [
        "## 단어 합치기\n",
        "\n",
        "';'.join(z)"
      ]
    },
    {
      "cell_type": "code",
      "execution_count": null,
      "id": "fa98555c",
      "metadata": {
        "id": "fa98555c",
        "outputId": "f46f3df9-f1df-42aa-e02b-d02503d536b3"
      },
      "outputs": [
        {
          "name": "stdout",
          "output_type": "stream",
          "text": [
            "['12', '31', '2023']\n"
          ]
        }
      ],
      "source": [
        "## 문자열을 \"/\"를 기준으로 나누고 순서를 바꾸어서 합치기\n",
        "\n",
        "date = '12/31/2023'\n",
        "z = date.split('/')\n",
        "print(z)"
      ]
    },
    {
      "cell_type": "code",
      "execution_count": null,
      "id": "e7c9c597",
      "metadata": {
        "id": "e7c9c597",
        "outputId": "745d653b-6045-405e-9f50-f72c36f84c6f"
      },
      "outputs": [
        {
          "name": "stdout",
          "output_type": "stream",
          "text": [
            "31\n"
          ]
        }
      ],
      "source": [
        "print(z[1])"
      ]
    },
    {
      "cell_type": "code",
      "execution_count": null,
      "id": "17880270",
      "metadata": {
        "id": "17880270",
        "outputId": "88bcb1fd-2d86-45e6-e7ae-8c6f56028408"
      },
      "outputs": [
        {
          "name": "stdout",
          "output_type": "stream",
          "text": [
            "2023-12-31\n"
          ]
        }
      ],
      "source": [
        "new_date = \"-\".join((z[2], z[0], z[1]))\n",
        "print(new_date)"
      ]
    },
    {
      "cell_type": "code",
      "execution_count": null,
      "id": "b7aae965",
      "metadata": {
        "id": "b7aae965",
        "outputId": "393308b4-560e-4671-e739-b3311495d02a"
      },
      "outputs": [
        {
          "name": "stdout",
          "output_type": "stream",
          "text": [
            "오늘 기온은 \n"
          ]
        }
      ],
      "source": [
        "# 문자열 교체 (replace)\n",
        "\n",
        "x = \"오늘 날씨는 \"\n",
        "print(x.replace(\"날씨는\", \"기온은\"))"
      ]
    },
    {
      "cell_type": "markdown",
      "id": "b8c53925",
      "metadata": {
        "id": "b8c53925"
      },
      "source": [
        "### 문자열에 포맷( format) 사용하기\n",
        "- 변수가 포함된 문자열을 만드는 방법\n",
        "  - f\"...\" 사용"
      ]
    },
    {
      "cell_type": "code",
      "execution_count": null,
      "id": "d927e7a7",
      "metadata": {
        "id": "d927e7a7",
        "outputId": "69d4dea3-0b8d-4b72-91e0-cda44ae3182d"
      },
      "outputs": [
        {
          "name": "stdout",
          "output_type": "stream",
          "text": [
            "틀린 갯수가 5개 이하이면 90.5 점입니다.\n"
          ]
        }
      ],
      "source": [
        "## 문자열 내에 변수 값을 포함하는 방법 (format)\n",
        "\n",
        "x = 5\n",
        "y = 90.5\n",
        "\n",
        "print(f\"틀린 갯수가 {x}개 이하이면 {y} 점입니다.\")"
      ]
    },
    {
      "cell_type": "markdown",
      "id": "be3195b4",
      "metadata": {
        "id": "be3195b4"
      },
      "source": [
        "## 불리언\n",
        "- 참과 거짓을 True, False로 표현\n",
        "- 대소문자를 구분함\n",
        "\n",
        "- \">\", \"<\", \"==\", \">=\",\"<=\", \"!=\" 등의 비교연산을 사용하여 불리언 값을 얻는다"
      ]
    },
    {
      "cell_type": "code",
      "execution_count": null,
      "id": "49c1df5e",
      "metadata": {
        "id": "49c1df5e",
        "outputId": "5af2b80c-1fa5-47b0-afa2-7bf01e106a0e"
      },
      "outputs": [
        {
          "name": "stdout",
          "output_type": "stream",
          "text": [
            "False\n"
          ]
        }
      ],
      "source": [
        "## 비교 연산의 결과는 논리형 값이다\n",
        "\n",
        "x = 5\n",
        "z = x < 1\n",
        "print(z)"
      ]
    },
    {
      "cell_type": "code",
      "execution_count": null,
      "id": "ceea3283",
      "metadata": {
        "id": "ceea3283",
        "outputId": "4ba40a28-d995-4d2c-cb43-6f16f9532f44"
      },
      "outputs": [
        {
          "name": "stdout",
          "output_type": "stream",
          "text": [
            "False\n",
            "True\n"
          ]
        }
      ],
      "source": [
        "## 논리형 연산 결과는 논리형 값이다\n",
        "\n",
        "a = True\n",
        "b = False\n",
        "print(a & b) # False\n",
        "print(a | b) # True"
      ]
    },
    {
      "cell_type": "markdown",
      "id": "a242e9b4",
      "metadata": {
        "id": "a242e9b4"
      },
      "source": [
        "### 불리언의 연산\n",
        "- 불리언 변수가 연산에 사용되면 True는 1로, False는 0으로 자동으로 변환된다\n",
        "\n",
        "- 조건에 맞는 계산 등을 할 때 사용"
      ]
    },
    {
      "cell_type": "code",
      "execution_count": null,
      "id": "3dc997d9",
      "metadata": {
        "id": "3dc997d9",
        "outputId": "89666a2d-6c5e-486a-fe06-add7a1bbf81f"
      },
      "outputs": [
        {
          "name": "stdout",
          "output_type": "stream",
          "text": [
            "10\n",
            "1\n"
          ]
        }
      ],
      "source": [
        "print(a*10)\n",
        "print(a+b)"
      ]
    },
    {
      "cell_type": "markdown",
      "id": "b49adaf8",
      "metadata": {
        "id": "b49adaf8"
      },
      "source": [
        "# 묶음 데이터\n",
        " - 숫자, 문자, 불리언 등 단변수들을 여러개 묶어 처리하는 방법\n",
        " - 리스트(list), 튜플(tuple), 사전(dictionary)"
      ]
    },
    {
      "cell_type": "markdown",
      "id": "5c04cea5",
      "metadata": {
        "id": "5c04cea5"
      },
      "source": [
        "## 리스트\n",
        " - 파이썬에서 가장 널리 사용되는 데이터 조작용 \"통\"\n",
        " - 리스트를 구성하는 각 항목의 데이터 타입은 서로 달라도 된다\n",
        " - 리스트 항목으로 이미지나, 파일 전체를 담을 수도 있다"
      ]
    },
    {
      "cell_type": "markdown",
      "id": "48439c31",
      "metadata": {
        "id": "48439c31"
      },
      "source": [
        "### 리스트 생성\n",
        " - 리스트를 만들려면 대괄호 \"[ ]\" 를 사용하고 각 항목을 ','로 구분한다\n",
        " - list() 함수로도 만들 수 있다"
      ]
    },
    {
      "cell_type": "markdown",
      "id": "1b0d26cc",
      "metadata": {
        "id": "1b0d26cc"
      },
      "source": [
        "### 슬라이싱\n",
        "- 리스트 내의 어떤 범위의 항목을 얻는다\n",
        "- 범위를 지정하는 것을 인덱싱이라고 한다"
      ]
    },
    {
      "cell_type": "code",
      "execution_count": null,
      "id": "bd813f7f",
      "metadata": {
        "id": "bd813f7f",
        "outputId": "3c15b21b-5c03-4a17-83f7-d3c805cac456",
        "scrolled": true
      },
      "outputs": [
        {
          "name": "stdout",
          "output_type": "stream",
          "text": [
            "7\n",
            "[1, 2, 3, 30, 90, [100, 200], '김연아']\n",
            "2\n",
            "[1, 2, 3]\n",
            "[30, 90, [100, 200]]\n",
            "90\n",
            "[90, [100, 200], '김연아']\n"
          ]
        }
      ],
      "source": [
        "## 리스트 생성과 일부 항목 얻기\n",
        "\n",
        "a = 3\n",
        "b = 90\n",
        "small_list = [100,200]\n",
        "x = [1,2,a,a*10,b,small_list,'김연아']\n",
        "\n",
        "print(len(x)) # 리스트의 항목 수\n",
        "print(x)       # 전체 항목 보기\n",
        "print(x[1])   # 두 번째(1) 항목\n",
        "print(x[:3])  # 네 번재(3) 미만까지\n",
        "print(x[3:6]) # 네 번째(3) 이상 ~ 7번째(6) 미만\n",
        "print(x[-3])  # 뒤에서 세 번째(3) 항목\n",
        "print(x[-3:]) # 뒤에서 세 번째(3) 이후"
      ]
    },
    {
      "cell_type": "markdown",
      "id": "6dc16842",
      "metadata": {
        "id": "6dc16842"
      },
      "source": [
        "### 항목 추가 : append()"
      ]
    },
    {
      "cell_type": "code",
      "execution_count": null,
      "id": "d365457b",
      "metadata": {
        "id": "d365457b",
        "outputId": "682d1a04-f04c-4f7f-a8ee-a3e44f7765c3"
      },
      "outputs": [
        {
          "name": "stdout",
          "output_type": "stream",
          "text": [
            "[1, 2, 3, 30, 90, [100, 200], '김연아', '손흥민', '손흥민', '손흥민']\n"
          ]
        },
        {
          "data": {
            "text/plain": [
              "[1, 2, 3, 30, 90, [100, 200], '김연아', '손흥민', '손흥민', '손흥민', '손흥민']"
            ]
          },
          "execution_count": 16,
          "metadata": {},
          "output_type": "execute_result"
        }
      ],
      "source": [
        "## 리스트 맨 뒤에 항목 추가하기\n",
        "\n",
        "print(x)\n",
        "x.append('손흥민') # 맨 뒤에 추가된다\n",
        "x"
      ]
    },
    {
      "cell_type": "markdown",
      "id": "fb07f211",
      "metadata": {
        "id": "fb07f211"
      },
      "source": [
        "### in\n",
        "- 어떤 항목이 리스트에 들어 있는지를 확인한다\n",
        "- 결과는 True나 Flase를 얻는다"
      ]
    },
    {
      "cell_type": "code",
      "execution_count": null,
      "id": "64283be5",
      "metadata": {
        "id": "64283be5",
        "outputId": "16686a0a-3e1c-49b8-aae8-697d18eddd90"
      },
      "outputs": [
        {
          "name": "stdout",
          "output_type": "stream",
          "text": [
            "True\n",
            "True\n",
            "False\n"
          ]
        }
      ],
      "source": [
        "## 리스트에 포함된 항목 확인하기\n",
        "\n",
        "x = [30,40,'김연아']\n",
        "print(30 in x)\n",
        "print('김연아' in x)\n",
        "print(100 in x)"
      ]
    },
    {
      "cell_type": "markdown",
      "id": "e88851d4",
      "metadata": {
        "id": "e88851d4"
      },
      "source": [
        "### 리스트 복제\n",
        "- 리스트 전체를 반복 복제 하려면 \"*\"를 사용한다\n",
        "- 리스트를 합치려면 \"+\"를 사용한다"
      ]
    },
    {
      "cell_type": "code",
      "execution_count": null,
      "id": "2fdb6f52",
      "metadata": {
        "id": "2fdb6f52",
        "outputId": "746979d3-7a72-4d00-f974-0d8db797c99d"
      },
      "outputs": [
        {
          "data": {
            "text/plain": [
              "[0, 0, 0, 0, 0, 1, 1, 1, 1, 1]"
            ]
          },
          "execution_count": 19,
          "metadata": {},
          "output_type": "execute_result"
        }
      ],
      "source": [
        "## 리스트 복제 및 더하기\n",
        "\n",
        "a = [0] # 항목이 0 하나인 리스트\n",
        "b = [1] # 항목이 1 하나인 리스트\n",
        "z = a*5 + b*5\n",
        "z"
      ]
    },
    {
      "cell_type": "markdown",
      "id": "bde4a98b",
      "metadata": {
        "id": "bde4a98b"
      },
      "source": [
        "### 리스트 정렬, sorted\n",
        "- 숫자 또는 알파벳순으로 정렬한다"
      ]
    },
    {
      "cell_type": "code",
      "execution_count": null,
      "id": "8394f8a0",
      "metadata": {
        "id": "8394f8a0",
        "outputId": "a5d11e0b-f0a3-403a-b170-0acc2297c219"
      },
      "outputs": [
        {
          "name": "stdout",
          "output_type": "stream",
          "text": [
            "[1, 2, 3, 4, 5]\n",
            "[5, 4, 3, 2, 1]\n",
            "['김연아', '박세리', '이선희']\n"
          ]
        }
      ],
      "source": [
        "## 리스트 순서 정렬하기\n",
        "\n",
        "x = [2,1,3,5,4]\n",
        "y = sorted(x)\n",
        "z = sorted(x, reverse=True)\n",
        "print(y)\n",
        "print(z)\n",
        "\n",
        "x = ['이선희', '김연아', '박세리']\n",
        "y = sorted(x)\n",
        "print(y)"
      ]
    },
    {
      "cell_type": "markdown",
      "id": "72a5dc1a",
      "metadata": {
        "id": "72a5dc1a"
      },
      "source": [
        "## 튜플 (tuple)\n",
        "- 튜플도 리스트처럼 여러 항목을 담을 수 있는 변수\n",
        "- 리스트와 달리 튜플의 내용은 '상수'로 취급되어 값을 바꿀 수 없다\n",
        "- 읽기 전용 리스트인 셈이다\n",
        "- 튜플을 사용하는 이유는 리스트보다 처리 속도가 빠르며 값을 안전하게 고정시키기 위해서이다\n",
        "- 튜플도 슬라이싱이 가능하다\n",
        "- 튜플을 만들려면 소괄호( )를 사용하여 만들거나 ( )  없이 \",\" 로 구분하여 나열한다"
      ]
    },
    {
      "cell_type": "code",
      "execution_count": null,
      "id": "72c481a8",
      "metadata": {
        "id": "72c481a8",
        "outputId": "07768f3c-c5fc-4107-f609-9ce2d3d29036"
      },
      "outputs": [
        {
          "name": "stdout",
          "output_type": "stream",
          "text": [
            "(1, 2, 3, 1, 2, 3, 90, 'good')\n",
            "90\n",
            "True\n",
            "False\n"
          ]
        }
      ],
      "source": [
        "## 튜플 만들기, 복제, 합치기\n",
        "\n",
        "tuple_a = (1, 2, 3)\n",
        "tuple_b = 90,\"good\"\n",
        "z = tuple_a*2 + tuple_b\n",
        "print(z)\n",
        "print(z[-2])\n",
        "print(3 in z)\n",
        "print(4 in z)"
      ]
    },
    {
      "cell_type": "markdown",
      "id": "a77ccc1b",
      "metadata": {
        "id": "a77ccc1b"
      },
      "source": [
        "## 사전 (Dictionaries)\n",
        "- 키-값 조합 형태의 데이터 묶음\n",
        "- 간단한 데이터베이스처럼 사용된다\n",
        "- 항목을 찾을 때 키를 사용한다\n",
        "- 딕셔너리에서 저장된 순서는 의미가 없다\n",
        "- 딕셔너리는 중괄호 {  } 로 만들거나 dict()로 만든다"
      ]
    },
    {
      "cell_type": "code",
      "execution_count": null,
      "id": "adf74da3",
      "metadata": {
        "id": "adf74da3",
        "outputId": "49be4e1c-dfc0-47e6-8df5-c04ccd187213"
      },
      "outputs": [
        {
          "name": "stdout",
          "output_type": "stream",
          "text": [
            "3\n",
            "{'grade': 3, 'age': 28, 'name': 'kim', 'address': 'Seoul'}\n"
          ]
        }
      ],
      "source": [
        "## 딕셔너리 생성, 값변경, 항목 추가하기\n",
        "\n",
        "student = {'grade': 3,'age': 21,'name': \"kim\"  }\n",
        "print(student['grade'])\n",
        "student['age'] = 28\n",
        "student['address'] = 'Seoul'\n",
        "print(student)"
      ]
    },
    {
      "cell_type": "code",
      "execution_count": null,
      "id": "9f55bb67",
      "metadata": {
        "id": "9f55bb67",
        "outputId": "f67dbaee-fcff-4724-f600-85ee933b3067",
        "scrolled": true
      },
      "outputs": [
        {
          "name": "stdout",
          "output_type": "stream",
          "text": [
            "dict_keys(['grade', 'age', 'name', 'address'])\n",
            "dict_values([3, 28, 'kim', 'Seoul'])\n",
            "dict_items([('grade', 3), ('age', 28), ('name', 'kim'), ('address', 'Seoul')])\n"
          ]
        }
      ],
      "source": [
        "## 딕셔너리의 키, 값, 항목 전체 출력하기\n",
        "\n",
        "print(student.keys())\n",
        "print(student.values())\n",
        "print(student.items())"
      ]
    },
    {
      "cell_type": "markdown",
      "id": "07eaea8c",
      "metadata": {
        "id": "07eaea8c"
      },
      "source": [
        "### in"
      ]
    },
    {
      "cell_type": "code",
      "execution_count": null,
      "id": "83452982",
      "metadata": {
        "id": "83452982",
        "outputId": "acea05e0-15aa-456f-8503-ee447c40f4e3"
      },
      "outputs": [
        {
          "name": "stdout",
          "output_type": "stream",
          "text": [
            "True\n",
            "False\n"
          ]
        }
      ],
      "source": [
        "## 딕셔너리에 특정 키가 존재하는지 확인하기\n",
        "\n",
        "print(\"age\" in student)\n",
        "print(\"sex\" in student)"
      ]
    },
    {
      "cell_type": "markdown",
      "id": "8257e1de",
      "metadata": {
        "id": "8257e1de"
      },
      "source": [
        "## range\n",
        "\n",
        "- 일정한 범위의 값들을 나타내는 특수 변수"
      ]
    },
    {
      "cell_type": "code",
      "execution_count": null,
      "id": "6bc782f4",
      "metadata": {
        "id": "6bc782f4",
        "outputId": "8edcf787-12ad-4052-ac75-8e262275bf96"
      },
      "outputs": [
        {
          "name": "stdout",
          "output_type": "stream",
          "text": [
            "range(0, 10)\n",
            "[0, 1, 2, 3, 4, 5, 6, 7, 8, 9]\n",
            "range(2, 20, 3)\n",
            "[2, 5, 8, 11, 14, 17]\n"
          ]
        }
      ],
      "source": [
        "## 특수 변수 range와 내용 보기\n",
        "\n",
        "x = range(10)\n",
        "print(x)\n",
        "print(list(x))\n",
        "\n",
        "y = range(2,20,3)\n",
        "print(y)\n",
        "print(list(y))"
      ]
    },
    {
      "cell_type": "markdown",
      "id": "59bd8023",
      "metadata": {
        "id": "59bd8023"
      },
      "source": [
        "\n",
        "\n",
        "# 프로그램 흐름"
      ]
    },
    {
      "cell_type": "markdown",
      "id": "8d439ad7",
      "metadata": {
        "id": "8d439ad7"
      },
      "source": [
        "## if\n",
        "- if 문 다음이 True이면 \":\" 이후 블록을 실행한다\n",
        "- 블록은 들여쓰기가 같은 영역으로 구분한다\n",
        "- else: 문을 사용할 수도 있다.\n",
        "- if 뒤에는 불리언이 필요하다"
      ]
    },
    {
      "cell_type": "code",
      "execution_count": null,
      "id": "09599db0",
      "metadata": {
        "id": "09599db0",
        "outputId": "06bb9a09-d38c-48ec-963e-f4188ebe86e6"
      },
      "outputs": [
        {
          "name": "stdout",
          "output_type": "stream",
          "text": [
            "축하합니다~ 합격입니다\n",
            "다음주부터 출근하시면 됩니다.\n"
          ]
        }
      ],
      "source": [
        "## 기본적인 if, elif, else 사용법\n",
        "\n",
        "x = 90\n",
        "\n",
        "if x > 80:\n",
        "    print(\"축하합니다~ 합격입니다\")\n",
        "    print(\"다음주부터 출근하시면 됩니다.\")\n",
        "elif x > 60:\n",
        "    print(\"2차 면접시험 대상자 입니다.\")\n",
        "    print(\"시험 날짜를 알려드리겠습니다.\")\n",
        "else:\n",
        "    print(\"불합격입니다.\")"
      ]
    },
    {
      "cell_type": "code",
      "execution_count": null,
      "id": "d9af1e6e",
      "metadata": {
        "id": "d9af1e6e",
        "outputId": "1e7e2b25-a85d-40b5-d24f-c57cb8dc6ba1"
      },
      "outputs": [
        {
          "name": "stdout",
          "output_type": "stream",
          "text": [
            "----------------------\n",
            "불합격입니다.\n",
            "----------------------\n",
            "2차 면접시험 대상자 입니다.\n",
            "시험 날짜를 알려드리겠습니다.\n",
            "----------------------\n",
            "축하합니다~ 합격입니다\n",
            "다음주부터 출근하시면 됩니다.\n"
          ]
        }
      ],
      "source": [
        "## for 문을 사용하여 채점 결과를 알려주는 코드\n",
        "\n",
        "score = [50, 70, 90]\n",
        "for x in score:\n",
        "    print('----------------------')\n",
        "    if x > 80:\n",
        "        print(\"축하합니다~ 합격입니다\")\n",
        "        print(\"다음주부터 출근하시면 됩니다.\")\n",
        "    elif x > 60:\n",
        "        print(\"2차 면접시험 대상자 입니다.\")\n",
        "        print(\"시험 날짜를 알려드리겠습니다.\")\n",
        "    else:\n",
        "        print(\"불합격입니다.\")"
      ]
    },
    {
      "cell_type": "markdown",
      "id": "14e23599",
      "metadata": {
        "id": "14e23599"
      },
      "source": [
        "## enumerate"
      ]
    },
    {
      "cell_type": "code",
      "execution_count": null,
      "id": "8490d22b",
      "metadata": {
        "id": "8490d22b",
        "outputId": "9cb02022-7128-47dc-b99c-19bc76df96c1"
      },
      "outputs": [
        {
          "name": "stdout",
          "output_type": "stream",
          "text": [
            "----------------------\n",
            "1 번째 응시자님:\n",
            "불합격입니다.\n",
            "----------------------\n",
            "2 번째 응시자님:\n",
            "2차 면접시험 대상자 입니다.\n",
            "시험 날짜를 알려드리겠습니다.\n",
            "----------------------\n",
            "3 번째 응시자님:\n",
            "축하합니다~ 합격입니다\n",
            "다음주부터 출근하시면 됩니다.\n"
          ]
        }
      ],
      "source": [
        "## 리스트의 인덱스를 얻는 enumerate() 사용예\n",
        "\n",
        "score = [50, 70, 90]\n",
        "\n",
        "for i, x in enumerate([50, 70, 90]):\n",
        "    print('----------------------')\n",
        "    print(i+1, \"번째 응시자님:\")\n",
        "    if x > 80:\n",
        "        print(\"축하합니다~ 합격입니다\")\n",
        "        print(\"다음주부터 출근하시면 됩니다.\")\n",
        "    elif x > 60:\n",
        "        print(\"2차 면접시험 대상자 입니다.\")\n",
        "        print(\"시험 날짜를 알려드리겠습니다.\")\n",
        "    else:\n",
        "        print(\"불합격입니다.\")"
      ]
    },
    {
      "cell_type": "code",
      "execution_count": null,
      "id": "71ef153d",
      "metadata": {
        "id": "71ef153d",
        "outputId": "1ae57c8b-a80e-42a3-99e3-3b02adccfa5d"
      },
      "outputs": [
        {
          "name": "stdout",
          "output_type": "stream",
          "text": [
            "[(0, 'kim'), (1, 'park'), (2, 'lee')]\n",
            "1 번째 사람 이름은 kim입니다\n",
            "2 번째 사람 이름은 park입니다\n",
            "3 번째 사람 이름은 lee입니다\n"
          ]
        }
      ],
      "source": [
        "## enumerate 사용 예\n",
        "\n",
        "names = [\"kim\", \"park\", \"lee\"]\n",
        "print(list(enumerate(names)))\n",
        "\n",
        "for i, name in enumerate(names):\n",
        "    print(f\"{i+1} 번째 사람 이름은 {name}입니다\")"
      ]
    },
    {
      "cell_type": "markdown",
      "id": "77c94958",
      "metadata": {
        "id": "77c94958"
      },
      "source": [
        "## for\n",
        "- 특정 조건이 만족되는 동안 \":\" 이후의 블록을 수행\n",
        "- 수행할 블록은 들여쓰기로 구분한다\n",
        "- in과 같이 자주 사용된다"
      ]
    },
    {
      "cell_type": "code",
      "execution_count": null,
      "id": "b3fc3e51",
      "metadata": {
        "id": "b3fc3e51",
        "outputId": "6a4dbe8c-cfa9-4087-f4ee-4e3946d39f3a"
      },
      "outputs": [
        {
          "name": "stdout",
          "output_type": "stream",
          "text": [
            "10\n",
            "20\n",
            "30\n",
            "40\n",
            "50\n"
          ]
        }
      ],
      "source": [
        "## 1~5 사이의 정수에 10을 곱하기\n",
        "\n",
        "for i in range(1,6):\n",
        "    print(i*10)"
      ]
    },
    {
      "cell_type": "markdown",
      "id": "61dcd73a",
      "metadata": {
        "id": "61dcd73a"
      },
      "source": [
        "### 리스트 내에서 for 사용하기"
      ]
    },
    {
      "cell_type": "code",
      "execution_count": null,
      "id": "2a961ea2",
      "metadata": {
        "id": "2a961ea2",
        "outputId": "0b943838-0e39-472c-9692-73ecaf501f51"
      },
      "outputs": [
        {
          "name": "stdout",
          "output_type": "stream",
          "text": [
            "[10, 20, 30, 40, 50]\n"
          ]
        }
      ],
      "source": [
        "## 리스트 선언문 내에서 for를 사용하는 방법\n",
        "\n",
        "z = [i*10 for i in range(1,6)]\n",
        "print(z)"
      ]
    },
    {
      "cell_type": "code",
      "execution_count": null,
      "id": "b0ecdcc3",
      "metadata": {
        "id": "b0ecdcc3",
        "outputId": "af41c7fe-0d9f-449a-98b0-2b4e9b445b42"
      },
      "outputs": [
        {
          "name": "stdout",
          "output_type": "stream",
          "text": [
            "True\n",
            "True\n"
          ]
        }
      ],
      "source": [
        "## 문자열에 문자열 포함 확인하기\n",
        "\n",
        "s = 'I am happy'\n",
        "print('happy' in s)\n",
        "print('hap' in s)"
      ]
    },
    {
      "cell_type": "code",
      "execution_count": null,
      "id": "f0c8db44",
      "metadata": {
        "id": "f0c8db44",
        "outputId": "88502160-51c9-44b6-a5ed-9181c97f3a7a"
      },
      "outputs": [
        {
          "name": "stdout",
          "output_type": "stream",
          "text": [
            "['cat001', 'cat002']\n"
          ]
        }
      ],
      "source": [
        "## 특정 문자열이 포함된 항목을 찾아서 리스트를 만들기\n",
        "\n",
        "files = ['cat001', 'cat002', 'dog003', 'dog004']\n",
        "match = 'cat'\n",
        "new_list = [s for s in files if match in s]\n",
        "print(new_list)"
      ]
    },
    {
      "cell_type": "markdown",
      "id": "2e44d112",
      "metadata": {
        "id": "2e44d112"
      },
      "source": [
        "## break\n",
        "\n",
        "- 특정 조건이 만족되면 for 문을 빠져나간다"
      ]
    },
    {
      "cell_type": "code",
      "execution_count": null,
      "id": "839f6172",
      "metadata": {
        "id": "839f6172",
        "outputId": "8be42687-b56d-4cbe-9505-d369bf445449"
      },
      "outputs": [
        {
          "name": "stdout",
          "output_type": "stream",
          "text": [
            "0\n",
            "10\n",
            "20\n",
            "30\n",
            "40\n",
            "50\n",
            "60\n",
            "70\n"
          ]
        }
      ],
      "source": [
        "for i in range(10):\n",
        "    x = i*10\n",
        "    if x > 70: break\n",
        "    print(x)\n"
      ]
    },
    {
      "cell_type": "markdown",
      "id": "1c9d6183",
      "metadata": {
        "id": "1c9d6183"
      },
      "source": [
        "# (실습) 구구단\n",
        "\n",
        "- 구구단을 축력하는 프로그램을 작성하시오"
      ]
    }
  ],
  "metadata": {
    "kernelspec": {
      "display_name": "Python 3",
      "language": "python",
      "name": "python3"
    },
    "language_info": {
      "codemirror_mode": {
        "name": "ipython",
        "version": 3
      },
      "file_extension": ".py",
      "mimetype": "text/x-python",
      "name": "python",
      "nbconvert_exporter": "python",
      "pygments_lexer": "ipython3",
      "version": "3.8.8"
    },
    "toc": {
      "base_numbering": 1,
      "nav_menu": {},
      "number_sections": false,
      "sideBar": true,
      "skip_h1_title": false,
      "title_cell": "Table of Contents",
      "title_sidebar": "Contents",
      "toc_cell": false,
      "toc_position": {
        "height": "calc(100% - 180px)",
        "left": "10px",
        "top": "150px",
        "width": "165px"
      },
      "toc_section_display": true,
      "toc_window_display": true
    },
    "colab": {
      "provenance": []
    }
  },
  "nbformat": 4,
  "nbformat_minor": 5
}